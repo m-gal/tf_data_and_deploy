{
 "cells": [
  {
   "cell_type": "markdown",
   "metadata": {
    "colab_type": "text",
    "id": "view-in-github"
   },
   "source": [
    "# Rock, Paper, Scissors\n",
    "\n",
    "In this week's exercise you will be working with TFDS and the rock-paper-scissors dataset. You'll do a few tasks such as loading the dataset, preprocess it and train a simple CNN model on it.\n"
   ]
  },
  {
   "cell_type": "markdown",
   "metadata": {
    "colab": {},
    "colab_type": "code",
    "id": "zX4Kg8DUTKWO"
   },
   "source": [
    "## Setup"
   ]
  },
  {
   "cell_type": "code",
   "execution_count": null,
   "metadata": {},
   "outputs": [],
   "source": [
    "from os import getcwd\n",
    "\n",
    "import tensorflow as tf\n",
    "import tensorflow_datasets as tfds"
   ]
  },
  {
   "cell_type": "code",
   "execution_count": null,
   "metadata": {},
   "outputs": [],
   "source": [
    "# EXERCISE: encoding the labels using our own function for one-hot encoding\n",
    "\n",
    "def my_one_hot(feature, label):\n",
    "    # Encode the labels to one-hot using tf.one_hot with depth equal to total \n",
    "    # number of classes here which are rock, paper and scissors\n",
    "    \n",
    "    one_hot = # YOUR CODE HERE\n",
    "    return feature, one_hot\n",
    "\n",
    "_,one_hot = my_one_hot([\"a\",\"b\",\"c\",\"a\"],[1,2,3,1])\n",
    "print(one_hot)\n"
   ]
  },
  {
   "cell_type": "markdown",
   "metadata": {},
   "source": [
    "## Expected Output\n",
    "```\n",
    "tf.Tensor(\n",
    "[[0. 1. 0.]\n",
    " [0. 0. 1.]\n",
    " [0. 0. 0.]\n",
    " [0. 1. 0.]], shape=(4, 3), dtype=float32)\n",
    " ```"
   ]
  },
  {
   "cell_type": "code",
   "execution_count": null,
   "metadata": {},
   "outputs": [],
   "source": [
    "# EXERCISE: Loading the rock, paper and scissors train and test dataset using tfds.load. \n",
    "\n",
    "# Use data_dir=filepath as the dataset is already downloaded for you\n",
    "\n",
    "filePath = f\"{getcwd()}/../tmp2\"\n",
    "\n",
    "train_data = tfds.load(# YOUR CODE HERE)\n",
    "val_data = tfds.load(# YOUR CODE HERE)\n",
    "    \n",
    "train_data_len = len(list(train_data))\n",
    "val_data_len = len(list(val_data))\n",
    "\n",
    "print(train_data_len)\n",
    "print(val_data_len)"
   ]
  },
  {
   "cell_type": "markdown",
   "metadata": {},
   "source": [
    "## Expected Output\n",
    "```\n",
    "2520\n",
    "372\n",
    " ```"
   ]
  },
  {
   "cell_type": "code",
   "execution_count": null,
   "metadata": {},
   "outputs": [],
   "source": [
    "# EXERCISE: one-hot encode the train and validation labels using the function we defined earlier\n",
    "\n",
    "# HINT - use map function https://www.tensorflow.org/api_docs/python/tf/data/Dataset#map\n",
    "\n",
    "train_data = # YOUR CODE HERE\n",
    "val_data = # YOUR CODE HERE\n",
    "\n",
    "print(type(train_data))"
   ]
  },
  {
   "cell_type": "markdown",
   "metadata": {},
   "source": [
    "## Expected Output\n",
    "```\n",
    "<class 'tensorflow.python.data.ops.dataset_ops.MapDataset'>\n",
    " ```"
   ]
  },
  {
   "cell_type": "code",
   "execution_count": null,
   "metadata": {},
   "outputs": [],
   "source": [
    "# EXERCISE: Check the information about the dataset to see the dataset image shape\n",
    "\n",
    "# HINT: Use with_info=True and data_dir\n",
    "_,info = tfds.load(# YOUR CODE HERE)\n",
    "\n",
    "print(info.features['image'].shape)"
   ]
  },
  {
   "cell_type": "markdown",
   "metadata": {},
   "source": [
    "## Expected Output\n",
    "```\n",
    "(300, 300, 3)\n",
    "\n",
    " ```"
   ]
  },
  {
   "cell_type": "code",
   "execution_count": null,
   "metadata": {
    "colab": {},
    "colab_type": "code",
    "id": "iSq4t32ZHHpt"
   },
   "outputs": [],
   "source": [
    "# EXERCISE: Train a simple CNN model on the dataset\n",
    "\n",
    "train_batches = train_data.shuffle(100).batch(10)\n",
    "validation_batches = val_data.batch(32)\n",
    "\n",
    "model = tf.keras.models.Sequential([\n",
    "    tf.keras.layers.Conv2D(16, (3, 3), activation='relu', input_shape=# YOUR CODE HERE),\n",
    "    # You can define as many layers as you want\n",
    "    # START CODE                        \n",
    "                           \n",
    "    # END CODE                       \n",
    "    tf.keras.layers.Dense(# YOUR CODE HERE)\n",
    "])\n",
    "\n",
    "model.summary()\n"
   ]
  },
  {
   "cell_type": "code",
   "execution_count": null,
   "metadata": {},
   "outputs": [],
   "source": [
    "# EXERCISE: Compile and fit your model - use categorical loss and choose optimizer as Adam\n",
    "\n",
    "#Your final epoch training accuracy should be above 0.8 and validation accuracy above 0.4\n",
    "\n",
    "model.compile(# YOUR CODE HERE)\n",
    "\n",
    "history = model.fit(train_batches, epochs=10, validation_data=validation_batches, validation_steps=1)\n",
    "    \n",
    "print(\"Final Training Accuracy:-\",history.history['accuracy'][-1])\n",
    "print(\"Final Validation Accuracy:-\",history.history['val_accuracy'][-1])"
   ]
  },
  {
   "cell_type": "markdown",
   "metadata": {},
   "source": [
    "# Submission Instructions"
   ]
  },
  {
   "cell_type": "code",
   "execution_count": null,
   "metadata": {},
   "outputs": [],
   "source": [
    "# Now click the 'Submit Assignment' button above."
   ]
  },
  {
   "cell_type": "markdown",
   "metadata": {},
   "source": [
    "# When you're done or would like to take a break, please run the two cells below to save your work and close the Notebook. This frees up resources for your fellow learners."
   ]
  },
  {
   "cell_type": "code",
   "execution_count": null,
   "metadata": {},
   "outputs": [],
   "source": [
    "%%javascript\n",
    "<!-- Save the notebook -->\n",
    "IPython.notebook.save_checkpoint();"
   ]
  },
  {
   "cell_type": "code",
   "execution_count": null,
   "metadata": {},
   "outputs": [],
   "source": [
    "%%javascript\n",
    "<!-- Shutdown and close the notebook -->\n",
    "window.onbeforeunload = null\n",
    "window.close();\n",
    "IPython.notebook.session.delete();"
   ]
  }
 ],
 "metadata": {
  "accelerator": "GPU",
  "colab": {
   "collapsed_sections": [],
   "include_colab_link": true,
   "name": "rps-exercise-question.ipynb",
   "provenance": [],
   "toc_visible": true
  },
  "coursera": {
   "course_slug": "data-pipelines-tensorflow",
   "graded_item_id": "XcFl6",
   "launcher_item_id": "tqnKm"
  },
  "kernelspec": {
   "display_name": "Python 3",
   "language": "python",
   "name": "python3"
  },
  "language_info": {
   "codemirror_mode": {
    "name": "ipython",
    "version": 3
   },
   "file_extension": ".py",
   "mimetype": "text/x-python",
   "name": "python",
   "nbconvert_exporter": "python",
   "pygments_lexer": "ipython3",
   "version": "3.6.8"
  }
 },
 "nbformat": 4,
 "nbformat_minor": 4
}
